{
 "cells": [
  {
   "cell_type": "markdown",
   "metadata": {},
   "source": [
    "# Coffee & Code To Go\n",
    "-----------------------------------------------\n",
    "\n",
    "Everyone's favorite workshop series has a new, portable architecture!\n",
    "\n",
    "The only software requirement for playing along (or deploying on any server or operating system) is Docker: [https://www.docker.com/](https://www.docker.com/)\n",
    "\n",
    "## About Coffee & Code: Whys and Wherefores\n",
    "------------------------------------------------------------------\n",
    "\n",
    "The series and selection of topics are motivated by factors including:\n",
    "\n",
    "* Developing and promoting the CSEL DEN\n",
    "* Outreach programming\n",
    "* Fun!\n",
    "\n",
    "The content and structure of each session is likewise informed by various models.\n",
    "\n",
    "|  \t\t  \t          | Carpentries        \t\t\t\t\t     | Data Management Curricula          | Librarian Skill & Professional Development |\n",
    "|---------------------------------|----------------------------------------------------------|------------------------------------|--------------------------------------------|\n",
    "|**Programs**     \t          | Software Carpentry \t\t\t\t\t     | DataONE Education Modules          | MANTRA DIY Research Data Management Training Kit for Librarians |\n",
    "|  \t\t  \t\t  | Data Carpentry     \t\t\t\t\t     | NECDMC   \t\t          |                                            |\n",
    "|  \t          \t\t  | Library Carpetry   \t\t\t\t\t     | Research Data MANTRA               |\t\t\t\t\t       |\n",
    "|**Example Concepts and Skills**  | tabular data management and analysis (OpenRefine, SQL, R)| data management plans and planning | research data management concepts          |\n",
    "|                                 | version control        \t\t\t\t     | metadata and data documentation    | data archiving and preservation            |\n",
    "|\t\t\t\t  | programming                    \t\t\t     | spreadsheet best practices         | data literacy                              |\n",
    "|                                 |                    \t\t\t\t\t     | data security & file management    |                                            |"
   ]
  },
  {
   "cell_type": "markdown",
   "metadata": {},
   "source": [
    "#### More about...\n",
    "\n",
    "[The Carpentries](https://carpentries.org/)\n",
    "\n",
    "[New England Collaborative Data Management Curriculum](https://library.umassmed.edu/necdmc/modules)\n",
    "\n",
    "\n",
    "## Interlude: Revamped Workshop Architecture"
   ]
  },
  {
   "cell_type": "markdown",
   "metadata": {
    "collapsed": true
   },
   "source": [
    "## Upcoming Workshops\n",
    "\n",
    "_Subject to change_\n",
    "\n",
    "* August 10: Advanced Version Control with Git, GitHub, and LoboGit\n",
    "    * Resetting and reverting commits\n",
    "    * Resolving conflicts\n",
    "    * Forking, branching, merging\n",
    "* September 14: Quantitative Analysis Using R and RStudio\n",
    "    * Big Data Analytics\n",
    "    * Subsetting and visualizing large datasets\n",
    "* October 12: Natural Language Processing with Python\n",
    "    * Word counts, ngrams, stop words\n",
    "    * NLTK: The Natural Language Toolkit\n",
    "    * Sentiment analysis\n",
    "* November 9: Database Fundamentals part 2: MySQL and Postgres \n",
    "    * Data modeling, primary and foreign keys\n",
    "    * Optimizing performance with indexing\n",
    "    * Joins\n",
    "* December 14: NoSQL and Graph Databases with Elasticsearch, MongoDB and NodeJS\n",
    "    * Fun stuff\n",
    "    * More fun stuff\n",
    "    * Applied fun stuff"
   ]
  },
  {
   "cell_type": "code",
   "execution_count": null,
   "metadata": {},
   "outputs": [],
   "source": []
  }
 ],
 "metadata": {
  "kernelspec": {
   "display_name": "Python 3",
   "language": "python",
   "name": "python3"
  },
  "language_info": {
   "codemirror_mode": {
    "name": "ipython",
    "version": 3
   },
   "file_extension": ".py",
   "mimetype": "text/x-python",
   "name": "python",
   "nbconvert_exporter": "python",
   "pygments_lexer": "ipython3",
   "version": "3.6.5"
  }
 },
 "nbformat": 4,
 "nbformat_minor": 2
}
