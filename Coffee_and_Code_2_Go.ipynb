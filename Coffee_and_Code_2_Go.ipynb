{
 "cells": [
  {
   "cell_type": "markdown",
   "metadata": {},
   "source": [
    "# Coffee & Code To Go\n",
    "-----------------------------------------------\n",
    "\n",
    "* Presentation Notebook: https://github.com/unmrds/cc-tech-days/blob/master/Coffee_and_Code_2_Go.ipynb\n",
    "* Presentation Repository: https://github.com/unmrds/cc-tech-days\n",
    "* Platform Repository: https://github.com/unmrds/cc-content-platform\n",
    "\n",
    "Everyone's favorite workshop series has a new, portable architecture!\n",
    "\n",
    "The only software requirement for playing along (or deploying on any server or operating system) is Docker: [https://www.docker.com/](https://www.docker.com/)\n",
    "\n",
    "## About Coffee & Code: Whys and Wherefores\n",
    "------------------------------------------------------------------\n",
    "\n",
    "The series and selection of topics are motivated by factors including:\n",
    "\n",
    "* Developing and promoting the CSEL DEN\n",
    "* Outreach programming\n",
    "* Fun!\n",
    "\n",
    "The content and structure of each session is likewise informed by various models.\n",
    "\n",
    "|  \t\t  \t          | Carpentries        \t\t\t\t\t     | Data Management Curricula          | Librarian Skill & Professional Development |\n",
    "|---------------------------------|----------------------------------------------------------|------------------------------------|--------------------------------------------|\n",
    "|**Programs**     \t          | Software Carpentry \t\t\t\t\t     | DataONE Education Modules          | MANTRA DIY Research Data Management Training Kit for Librarians |\n",
    "|  \t\t  \t\t  | Data Carpentry     \t\t\t\t\t     | NECDMC   \t\t          |                                            |\n",
    "|  \t          \t\t  | Library Carpetry   \t\t\t\t\t     | Research Data MANTRA               |\t\t\t\t\t       |\n",
    "|---------------------------------|----------------------------------------------------------|------------------------------------|--------------------------------------------|\n",
    "|**Example Concepts and Skills**  | tabular data management and analysis (OpenRefine, SQL, R)| data management plans and planning | research data management concepts          |\n",
    "|                                 | version control        \t\t\t\t     | metadata and data documentation    | data archiving and preservation            |\n",
    "|\t\t\t\t  | programming                    \t\t\t     | spreadsheet best practices         | data literacy                              |\n",
    "|                                 |                    \t\t\t\t\t     | data security & file management    |                                            |"
   ]
  },
  {
   "cell_type": "markdown",
   "metadata": {},
   "source": [
    "## Overview of the Coffee & Code Architecture\n",
    "\n",
    "Based on the same Docker model that we use for our teaching and learning platform\n",
    "\n",
    "![Docker flow diagram](dockerFlow.png)\n",
    "\n",
    "\n",
    "\n",
    "![Comparison of Hypervisor VM and Container Models](VMvsContainer.png)"
   ]
  },
  {
   "cell_type": "code",
   "execution_count": null,
   "metadata": {
    "collapsed": true
   },
   "outputs": [],
   "source": []
  }
 ],
 "metadata": {
  "kernelspec": {
   "display_name": "Python 3",
   "language": "python",
   "name": "python3"
  },
  "language_info": {
   "codemirror_mode": {
    "name": "ipython",
    "version": 3
   },
   "file_extension": ".py",
   "mimetype": "text/x-python",
   "name": "python",
   "nbconvert_exporter": "python",
   "pygments_lexer": "ipython3",
   "version": "3.6.5"
  }
 },
 "nbformat": 4,
 "nbformat_minor": 2
}
